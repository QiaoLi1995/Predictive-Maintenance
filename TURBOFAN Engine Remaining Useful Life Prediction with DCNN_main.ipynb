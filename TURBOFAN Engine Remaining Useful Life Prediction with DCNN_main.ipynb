{
  "nbformat": 4,
  "nbformat_minor": 0,
  "metadata": {
    "kernelspec": {
      "language": "python",
      "display_name": "Python 3",
      "name": "python3"
    },
    "language_info": {
      "pygments_lexer": "ipython3",
      "nbconvert_exporter": "python",
      "version": "3.7.7-final",
      "file_extension": ".py",
      "codemirror_mode": {
        "name": "ipython",
        "version": 3
      },
      "name": "python",
      "mimetype": "text/x-python"
    },
    "colab": {
      "name": "DCNN_Copy (1).ipynb",
      "provenance": [],
      "collapsed_sections": []
    },
    "accelerator": "GPU"
  },
  "cells": [
    {
      "cell_type": "code",
      "metadata": {
        "id": "wojr9j1hdrEY",
        "colab_type": "code",
        "colab": {}
      },
      "source": [
        "# Deep Convolution Neural Network-based Remaining Useful Life Prediction Using NASA Turbofan Dataset\n",
        "#This implementation uses only the sensor readings and rectified RUL"
      ],
      "execution_count": 1,
      "outputs": []
    },
    {
      "cell_type": "code",
      "metadata": {
        "tags": [],
        "id": "zZkagJ0X3fhE",
        "colab_type": "code",
        "colab": {
          "base_uri": "https://localhost:8080/",
          "height": 35
        },
        "outputId": "4381e275-292d-4c25-d40c-49803283dfe4"
      },
      "source": [
        "import keras\n",
        "import keras.backend as K\n",
        "from keras.layers.core import Activation\n",
        "from keras.models import Sequential,load_model\n",
        "from keras.layers import Dense, Dropout, Conv1D\n",
        "import pandas as pd\n",
        "import numpy as np\n",
        "import matplotlib.pyplot as plt\n",
        "from sklearn import preprocessing"
      ],
      "execution_count": 2,
      "outputs": [
        {
          "output_type": "stream",
          "text": [
            "Using TensorFlow backend.\n"
          ],
          "name": "stderr"
        }
      ]
    },
    {
      "cell_type": "code",
      "metadata": {
        "id": "wrqRcjqjovI9",
        "colab_type": "code",
        "colab": {}
      },
      "source": [
        "#Train_data is a cleaned train_FD001\n",
        "train_data=pd.read_csv(\"/content/sample_data/Train_data.csv\")\n",
        "\n",
        "#Engine number 21 sensor readings are used as the test\n",
        "test_data=pd.read_csv(\"/content/sample_data/train_21_engine_new.csv\")"
      ],
      "execution_count": 3,
      "outputs": []
    },
    {
      "cell_type": "code",
      "metadata": {
        "id": "iWiXYQHi3fhK",
        "colab_type": "code",
        "colab": {
          "base_uri": "https://localhost:8080/",
          "height": 222
        },
        "outputId": "8a74277f-465b-4004-b69c-33acce0da713"
      },
      "source": [
        "train_data.head()"
      ],
      "execution_count": 4,
      "outputs": [
        {
          "output_type": "execute_result",
          "data": {
            "text/html": [
              "<div>\n",
              "<style scoped>\n",
              "    .dataframe tbody tr th:only-of-type {\n",
              "        vertical-align: middle;\n",
              "    }\n",
              "\n",
              "    .dataframe tbody tr th {\n",
              "        vertical-align: top;\n",
              "    }\n",
              "\n",
              "    .dataframe thead th {\n",
              "        text-align: right;\n",
              "    }\n",
              "</style>\n",
              "<table border=\"1\" class=\"dataframe\">\n",
              "  <thead>\n",
              "    <tr style=\"text-align: right;\">\n",
              "      <th></th>\n",
              "      <th>id</th>\n",
              "      <th>cycle</th>\n",
              "      <th>sensor2</th>\n",
              "      <th>sensor3</th>\n",
              "      <th>sensor4</th>\n",
              "      <th>sensor7</th>\n",
              "      <th>sensor8</th>\n",
              "      <th>sensor9</th>\n",
              "      <th>sensor11</th>\n",
              "      <th>sensor12</th>\n",
              "      <th>sensor13</th>\n",
              "      <th>sensor14</th>\n",
              "      <th>sensor15</th>\n",
              "      <th>sensor17</th>\n",
              "      <th>sensor20</th>\n",
              "      <th>sensor21</th>\n",
              "      <th>R_early</th>\n",
              "    </tr>\n",
              "  </thead>\n",
              "  <tbody>\n",
              "    <tr>\n",
              "      <th>0</th>\n",
              "      <td>1</td>\n",
              "      <td>1</td>\n",
              "      <td>641.82</td>\n",
              "      <td>1589.70</td>\n",
              "      <td>1400.60</td>\n",
              "      <td>554.36</td>\n",
              "      <td>2388.06</td>\n",
              "      <td>9046.19</td>\n",
              "      <td>47.47</td>\n",
              "      <td>521.66</td>\n",
              "      <td>2388.02</td>\n",
              "      <td>8138.62</td>\n",
              "      <td>8.4195</td>\n",
              "      <td>392</td>\n",
              "      <td>39.06</td>\n",
              "      <td>23.4190</td>\n",
              "      <td>125</td>\n",
              "    </tr>\n",
              "    <tr>\n",
              "      <th>1</th>\n",
              "      <td>1</td>\n",
              "      <td>2</td>\n",
              "      <td>642.15</td>\n",
              "      <td>1591.82</td>\n",
              "      <td>1403.14</td>\n",
              "      <td>553.75</td>\n",
              "      <td>2388.04</td>\n",
              "      <td>9044.07</td>\n",
              "      <td>47.49</td>\n",
              "      <td>522.28</td>\n",
              "      <td>2388.07</td>\n",
              "      <td>8131.49</td>\n",
              "      <td>8.4318</td>\n",
              "      <td>392</td>\n",
              "      <td>39.00</td>\n",
              "      <td>23.4236</td>\n",
              "      <td>125</td>\n",
              "    </tr>\n",
              "    <tr>\n",
              "      <th>2</th>\n",
              "      <td>1</td>\n",
              "      <td>3</td>\n",
              "      <td>642.35</td>\n",
              "      <td>1587.99</td>\n",
              "      <td>1404.20</td>\n",
              "      <td>554.26</td>\n",
              "      <td>2388.08</td>\n",
              "      <td>9052.94</td>\n",
              "      <td>47.27</td>\n",
              "      <td>522.42</td>\n",
              "      <td>2388.03</td>\n",
              "      <td>8133.23</td>\n",
              "      <td>8.4178</td>\n",
              "      <td>390</td>\n",
              "      <td>38.95</td>\n",
              "      <td>23.3442</td>\n",
              "      <td>125</td>\n",
              "    </tr>\n",
              "    <tr>\n",
              "      <th>3</th>\n",
              "      <td>1</td>\n",
              "      <td>4</td>\n",
              "      <td>642.35</td>\n",
              "      <td>1582.79</td>\n",
              "      <td>1401.87</td>\n",
              "      <td>554.45</td>\n",
              "      <td>2388.11</td>\n",
              "      <td>9049.48</td>\n",
              "      <td>47.13</td>\n",
              "      <td>522.86</td>\n",
              "      <td>2388.08</td>\n",
              "      <td>8133.83</td>\n",
              "      <td>8.3682</td>\n",
              "      <td>392</td>\n",
              "      <td>38.88</td>\n",
              "      <td>23.3739</td>\n",
              "      <td>125</td>\n",
              "    </tr>\n",
              "    <tr>\n",
              "      <th>4</th>\n",
              "      <td>1</td>\n",
              "      <td>5</td>\n",
              "      <td>642.37</td>\n",
              "      <td>1582.85</td>\n",
              "      <td>1406.22</td>\n",
              "      <td>554.00</td>\n",
              "      <td>2388.06</td>\n",
              "      <td>9055.15</td>\n",
              "      <td>47.28</td>\n",
              "      <td>522.19</td>\n",
              "      <td>2388.04</td>\n",
              "      <td>8133.80</td>\n",
              "      <td>8.4294</td>\n",
              "      <td>393</td>\n",
              "      <td>38.90</td>\n",
              "      <td>23.4044</td>\n",
              "      <td>125</td>\n",
              "    </tr>\n",
              "  </tbody>\n",
              "</table>\n",
              "</div>"
            ],
            "text/plain": [
              "   id  cycle  sensor2  sensor3  ...  sensor17  sensor20  sensor21  R_early\n",
              "0   1      1   641.82  1589.70  ...       392     39.06   23.4190      125\n",
              "1   1      2   642.15  1591.82  ...       392     39.00   23.4236      125\n",
              "2   1      3   642.35  1587.99  ...       390     38.95   23.3442      125\n",
              "3   1      4   642.35  1582.79  ...       392     38.88   23.3739      125\n",
              "4   1      5   642.37  1582.85  ...       393     38.90   23.4044      125\n",
              "\n",
              "[5 rows x 17 columns]"
            ]
          },
          "metadata": {
            "tags": []
          },
          "execution_count": 4
        }
      ]
    },
    {
      "cell_type": "code",
      "metadata": {
        "id": "B7SLQPfk3fhN",
        "colab_type": "code",
        "colab": {
          "base_uri": "https://localhost:8080/",
          "height": 222
        },
        "outputId": "271fe265-ad98-4014-feb2-6a10fd196687"
      },
      "source": [
        "test_data.head()"
      ],
      "execution_count": 5,
      "outputs": [
        {
          "output_type": "execute_result",
          "data": {
            "text/html": [
              "<div>\n",
              "<style scoped>\n",
              "    .dataframe tbody tr th:only-of-type {\n",
              "        vertical-align: middle;\n",
              "    }\n",
              "\n",
              "    .dataframe tbody tr th {\n",
              "        vertical-align: top;\n",
              "    }\n",
              "\n",
              "    .dataframe thead th {\n",
              "        text-align: right;\n",
              "    }\n",
              "</style>\n",
              "<table border=\"1\" class=\"dataframe\">\n",
              "  <thead>\n",
              "    <tr style=\"text-align: right;\">\n",
              "      <th></th>\n",
              "      <th>id</th>\n",
              "      <th>cycle</th>\n",
              "      <th>sensor2</th>\n",
              "      <th>sensor3</th>\n",
              "      <th>sensor4</th>\n",
              "      <th>sensor7</th>\n",
              "      <th>sensor8</th>\n",
              "      <th>sensor9</th>\n",
              "      <th>sensor11</th>\n",
              "      <th>sensor12</th>\n",
              "      <th>sensor13</th>\n",
              "      <th>sensor14</th>\n",
              "      <th>sensor15</th>\n",
              "      <th>sensor17</th>\n",
              "      <th>sensor20</th>\n",
              "      <th>sensor21</th>\n",
              "      <th>R_early</th>\n",
              "    </tr>\n",
              "  </thead>\n",
              "  <tbody>\n",
              "    <tr>\n",
              "      <th>0</th>\n",
              "      <td>21</td>\n",
              "      <td>1</td>\n",
              "      <td>642.24</td>\n",
              "      <td>1582.88</td>\n",
              "      <td>1410.66</td>\n",
              "      <td>553.57</td>\n",
              "      <td>2388.07</td>\n",
              "      <td>9047.42</td>\n",
              "      <td>47.44</td>\n",
              "      <td>521.76</td>\n",
              "      <td>2388.06</td>\n",
              "      <td>8128.48</td>\n",
              "      <td>8.4181</td>\n",
              "      <td>395</td>\n",
              "      <td>38.90</td>\n",
              "      <td>23.3554</td>\n",
              "      <td>125</td>\n",
              "    </tr>\n",
              "    <tr>\n",
              "      <th>1</th>\n",
              "      <td>21</td>\n",
              "      <td>2</td>\n",
              "      <td>642.27</td>\n",
              "      <td>1582.13</td>\n",
              "      <td>1404.54</td>\n",
              "      <td>553.22</td>\n",
              "      <td>2388.03</td>\n",
              "      <td>9043.88</td>\n",
              "      <td>47.25</td>\n",
              "      <td>521.39</td>\n",
              "      <td>2388.05</td>\n",
              "      <td>8120.15</td>\n",
              "      <td>8.3895</td>\n",
              "      <td>392</td>\n",
              "      <td>38.81</td>\n",
              "      <td>23.2300</td>\n",
              "      <td>125</td>\n",
              "    </tr>\n",
              "    <tr>\n",
              "      <th>2</th>\n",
              "      <td>21</td>\n",
              "      <td>3</td>\n",
              "      <td>642.47</td>\n",
              "      <td>1589.73</td>\n",
              "      <td>1408.88</td>\n",
              "      <td>553.21</td>\n",
              "      <td>2388.11</td>\n",
              "      <td>9048.33</td>\n",
              "      <td>47.43</td>\n",
              "      <td>521.26</td>\n",
              "      <td>2388.12</td>\n",
              "      <td>8124.89</td>\n",
              "      <td>8.4454</td>\n",
              "      <td>392</td>\n",
              "      <td>38.69</td>\n",
              "      <td>23.3471</td>\n",
              "      <td>125</td>\n",
              "    </tr>\n",
              "    <tr>\n",
              "      <th>3</th>\n",
              "      <td>21</td>\n",
              "      <td>4</td>\n",
              "      <td>642.50</td>\n",
              "      <td>1587.18</td>\n",
              "      <td>1409.45</td>\n",
              "      <td>553.30</td>\n",
              "      <td>2388.05</td>\n",
              "      <td>9052.17</td>\n",
              "      <td>47.35</td>\n",
              "      <td>521.81</td>\n",
              "      <td>2388.08</td>\n",
              "      <td>8126.21</td>\n",
              "      <td>8.3913</td>\n",
              "      <td>393</td>\n",
              "      <td>39.00</td>\n",
              "      <td>23.4179</td>\n",
              "      <td>125</td>\n",
              "    </tr>\n",
              "    <tr>\n",
              "      <th>4</th>\n",
              "      <td>21</td>\n",
              "      <td>5</td>\n",
              "      <td>642.21</td>\n",
              "      <td>1596.51</td>\n",
              "      <td>1401.46</td>\n",
              "      <td>553.03</td>\n",
              "      <td>2388.04</td>\n",
              "      <td>9047.48</td>\n",
              "      <td>47.57</td>\n",
              "      <td>521.82</td>\n",
              "      <td>2388.10</td>\n",
              "      <td>8130.92</td>\n",
              "      <td>8.4825</td>\n",
              "      <td>393</td>\n",
              "      <td>38.88</td>\n",
              "      <td>23.2637</td>\n",
              "      <td>125</td>\n",
              "    </tr>\n",
              "  </tbody>\n",
              "</table>\n",
              "</div>"
            ],
            "text/plain": [
              "   id  cycle  sensor2  sensor3  ...  sensor17  sensor20  sensor21  R_early\n",
              "0  21      1   642.24  1582.88  ...       395     38.90   23.3554      125\n",
              "1  21      2   642.27  1582.13  ...       392     38.81   23.2300      125\n",
              "2  21      3   642.47  1589.73  ...       392     38.69   23.3471      125\n",
              "3  21      4   642.50  1587.18  ...       393     39.00   23.4179      125\n",
              "4  21      5   642.21  1596.51  ...       393     38.88   23.2637      125\n",
              "\n",
              "[5 rows x 17 columns]"
            ]
          },
          "metadata": {
            "tags": []
          },
          "execution_count": 5
        }
      ]
    },
    {
      "cell_type": "code",
      "metadata": {
        "id": "A9gO_kR13fhP",
        "colab_type": "code",
        "colab": {
          "base_uri": "https://localhost:8080/",
          "height": 156
        },
        "outputId": "f6ff9fac-7059-49fe-fa33-c690b3b69646"
      },
      "source": [
        "#Normalize the training set\n",
        "cols_normalize = train_data.columns.difference(['id','cycle','R_early'])\n",
        "min_max_scaler = preprocessing.MinMaxScaler()\n",
        "norm_train_df = pd.DataFrame(min_max_scaler.fit_transform(train_data[cols_normalize]), \n",
        "                             columns=cols_normalize, \n",
        "                             index=train_data.index)\n",
        "join_df = train_data[train_data.columns.difference(cols_normalize)].join(norm_train_df)\n",
        "train_data = join_df.reindex(columns = train_data.columns)\n",
        "print(train_data.head())"
      ],
      "execution_count": 6,
      "outputs": [
        {
          "output_type": "stream",
          "text": [
            "   id  cycle   sensor2   sensor3  ...  sensor17  sensor20  sensor21  R_early\n",
            "0   1      1  0.183735  0.406802  ...  0.333333  0.713178  0.724662      125\n",
            "1   1      2  0.283133  0.453019  ...  0.333333  0.666667  0.731014      125\n",
            "2   1      3  0.343373  0.369523  ...  0.166667  0.627907  0.621375      125\n",
            "3   1      4  0.343373  0.256159  ...  0.333333  0.573643  0.662386      125\n",
            "4   1      5  0.349398  0.257467  ...  0.416667  0.589147  0.704502      125\n",
            "\n",
            "[5 rows x 17 columns]\n"
          ],
          "name": "stdout"
        }
      ]
    },
    {
      "cell_type": "code",
      "metadata": {
        "tags": [],
        "id": "ufuFJaaf3fhS",
        "colab_type": "code",
        "colab": {
          "base_uri": "https://localhost:8080/",
          "height": 156
        },
        "outputId": "b6129b05-4ffe-41c6-e25a-3ab0f3f3c2b4"
      },
      "source": [
        "#Normalize the test set\n",
        "norm_test_df = pd.DataFrame(min_max_scaler.transform(test_data[cols_normalize]), \n",
        "                            columns=cols_normalize, \n",
        "                            index=test_data.index)\n",
        "test_join_df = test_data[test_data.columns.difference(cols_normalize)].join(norm_test_df)\n",
        "test_data = test_join_df.reindex(columns = test_data.columns)\n",
        "test_data = test_data.reset_index(drop=True)\n",
        "print(test_data.head())"
      ],
      "execution_count": 7,
      "outputs": [
        {
          "output_type": "stream",
          "text": [
            "   id  cycle   sensor2   sensor3  ...  sensor17  sensor20  sensor21  R_early\n",
            "0  21      1  0.310241  0.258121  ...  0.583333  0.589147  0.636841      125\n",
            "1  21      2  0.319277  0.241770  ...  0.333333  0.519380  0.463684      125\n",
            "2  21      3  0.379518  0.407456  ...  0.333333  0.426357  0.625380      125\n",
            "3  21      4  0.388554  0.351864  ...  0.416667  0.666667  0.723143      125\n",
            "4  21      5  0.301205  0.555265  ...  0.416667  0.573643  0.510218      125\n",
            "\n",
            "[5 rows x 17 columns]\n"
          ],
          "name": "stdout"
        }
      ]
    },
    {
      "cell_type": "code",
      "metadata": {
        "id": "O2AUsg-t3fhU",
        "colab_type": "code",
        "colab": {
          "base_uri": "https://localhost:8080/",
          "height": 222
        },
        "outputId": "2e7b5221-83ec-4b17-8924-d9673df25fa5"
      },
      "source": [
        "train_data.head()"
      ],
      "execution_count": 8,
      "outputs": [
        {
          "output_type": "execute_result",
          "data": {
            "text/html": [
              "<div>\n",
              "<style scoped>\n",
              "    .dataframe tbody tr th:only-of-type {\n",
              "        vertical-align: middle;\n",
              "    }\n",
              "\n",
              "    .dataframe tbody tr th {\n",
              "        vertical-align: top;\n",
              "    }\n",
              "\n",
              "    .dataframe thead th {\n",
              "        text-align: right;\n",
              "    }\n",
              "</style>\n",
              "<table border=\"1\" class=\"dataframe\">\n",
              "  <thead>\n",
              "    <tr style=\"text-align: right;\">\n",
              "      <th></th>\n",
              "      <th>id</th>\n",
              "      <th>cycle</th>\n",
              "      <th>sensor2</th>\n",
              "      <th>sensor3</th>\n",
              "      <th>sensor4</th>\n",
              "      <th>sensor7</th>\n",
              "      <th>sensor8</th>\n",
              "      <th>sensor9</th>\n",
              "      <th>sensor11</th>\n",
              "      <th>sensor12</th>\n",
              "      <th>sensor13</th>\n",
              "      <th>sensor14</th>\n",
              "      <th>sensor15</th>\n",
              "      <th>sensor17</th>\n",
              "      <th>sensor20</th>\n",
              "      <th>sensor21</th>\n",
              "      <th>R_early</th>\n",
              "    </tr>\n",
              "  </thead>\n",
              "  <tbody>\n",
              "    <tr>\n",
              "      <th>0</th>\n",
              "      <td>1</td>\n",
              "      <td>1</td>\n",
              "      <td>0.183735</td>\n",
              "      <td>0.406802</td>\n",
              "      <td>0.309757</td>\n",
              "      <td>0.726248</td>\n",
              "      <td>0.242424</td>\n",
              "      <td>0.109755</td>\n",
              "      <td>0.369048</td>\n",
              "      <td>0.633262</td>\n",
              "      <td>0.205882</td>\n",
              "      <td>0.199608</td>\n",
              "      <td>0.363986</td>\n",
              "      <td>0.333333</td>\n",
              "      <td>0.713178</td>\n",
              "      <td>0.724662</td>\n",
              "      <td>125</td>\n",
              "    </tr>\n",
              "    <tr>\n",
              "      <th>1</th>\n",
              "      <td>1</td>\n",
              "      <td>2</td>\n",
              "      <td>0.283133</td>\n",
              "      <td>0.453019</td>\n",
              "      <td>0.352633</td>\n",
              "      <td>0.628019</td>\n",
              "      <td>0.212121</td>\n",
              "      <td>0.100242</td>\n",
              "      <td>0.380952</td>\n",
              "      <td>0.765458</td>\n",
              "      <td>0.279412</td>\n",
              "      <td>0.162813</td>\n",
              "      <td>0.411312</td>\n",
              "      <td>0.333333</td>\n",
              "      <td>0.666667</td>\n",
              "      <td>0.731014</td>\n",
              "      <td>125</td>\n",
              "    </tr>\n",
              "    <tr>\n",
              "      <th>2</th>\n",
              "      <td>1</td>\n",
              "      <td>3</td>\n",
              "      <td>0.343373</td>\n",
              "      <td>0.369523</td>\n",
              "      <td>0.370527</td>\n",
              "      <td>0.710145</td>\n",
              "      <td>0.272727</td>\n",
              "      <td>0.140043</td>\n",
              "      <td>0.250000</td>\n",
              "      <td>0.795309</td>\n",
              "      <td>0.220588</td>\n",
              "      <td>0.171793</td>\n",
              "      <td>0.357445</td>\n",
              "      <td>0.166667</td>\n",
              "      <td>0.627907</td>\n",
              "      <td>0.621375</td>\n",
              "      <td>125</td>\n",
              "    </tr>\n",
              "    <tr>\n",
              "      <th>3</th>\n",
              "      <td>1</td>\n",
              "      <td>4</td>\n",
              "      <td>0.343373</td>\n",
              "      <td>0.256159</td>\n",
              "      <td>0.331195</td>\n",
              "      <td>0.740741</td>\n",
              "      <td>0.318182</td>\n",
              "      <td>0.124518</td>\n",
              "      <td>0.166667</td>\n",
              "      <td>0.889126</td>\n",
              "      <td>0.294118</td>\n",
              "      <td>0.174889</td>\n",
              "      <td>0.166603</td>\n",
              "      <td>0.333333</td>\n",
              "      <td>0.573643</td>\n",
              "      <td>0.662386</td>\n",
              "      <td>125</td>\n",
              "    </tr>\n",
              "    <tr>\n",
              "      <th>4</th>\n",
              "      <td>1</td>\n",
              "      <td>5</td>\n",
              "      <td>0.349398</td>\n",
              "      <td>0.257467</td>\n",
              "      <td>0.404625</td>\n",
              "      <td>0.668277</td>\n",
              "      <td>0.242424</td>\n",
              "      <td>0.149960</td>\n",
              "      <td>0.255952</td>\n",
              "      <td>0.746269</td>\n",
              "      <td>0.235294</td>\n",
              "      <td>0.174734</td>\n",
              "      <td>0.402078</td>\n",
              "      <td>0.416667</td>\n",
              "      <td>0.589147</td>\n",
              "      <td>0.704502</td>\n",
              "      <td>125</td>\n",
              "    </tr>\n",
              "  </tbody>\n",
              "</table>\n",
              "</div>"
            ],
            "text/plain": [
              "   id  cycle   sensor2   sensor3  ...  sensor17  sensor20  sensor21  R_early\n",
              "0   1      1  0.183735  0.406802  ...  0.333333  0.713178  0.724662      125\n",
              "1   1      2  0.283133  0.453019  ...  0.333333  0.666667  0.731014      125\n",
              "2   1      3  0.343373  0.369523  ...  0.166667  0.627907  0.621375      125\n",
              "3   1      4  0.343373  0.256159  ...  0.333333  0.573643  0.662386      125\n",
              "4   1      5  0.349398  0.257467  ...  0.416667  0.589147  0.704502      125\n",
              "\n",
              "[5 rows x 17 columns]"
            ]
          },
          "metadata": {
            "tags": []
          },
          "execution_count": 8
        }
      ]
    },
    {
      "cell_type": "code",
      "metadata": {
        "id": "VcOtE7qd3fhX",
        "colab_type": "code",
        "colab": {}
      },
      "source": [
        ""
      ],
      "execution_count": 8,
      "outputs": []
    },
    {
      "cell_type": "code",
      "metadata": {
        "id": "wQg377Tr3fhZ",
        "colab_type": "code",
        "colab": {}
      },
      "source": [
        "# Sliding window size of 40 cycles\n",
        "sequence_length = 40\n",
        "\n",
        "# function to reshape features into (samples, time steps, features) \n",
        "\n",
        "def gen_sequence(id_df, seq_length, seq_cols):\n",
        "\n",
        "    data_matrix = id_df[seq_cols].values\n",
        "    num_elements = data_matrix.shape[0]\n",
        "\n",
        "    for start, stop in zip(range(0, num_elements-seq_length),\n",
        "                           range(seq_length, num_elements)):\n",
        "        yield data_matrix[start:stop, :]"
      ],
      "execution_count": 9,
      "outputs": []
    },
    {
      "cell_type": "code",
      "metadata": {
        "tags": [],
        "id": "V4GeRGbU3fhc",
        "colab_type": "code",
        "colab": {
          "base_uri": "https://localhost:8080/",
          "height": 35
        },
        "outputId": "8199ea23-fd2e-4a2e-fe0c-df173fdc7da3"
      },
      "source": [
        "#  Select useful sensors only feature columns\n",
        "sequence_cols = ['sensor2','sensor3','sensor4','sensor7','sensor8','sensor9',\n",
        "                 'sensor11','sensor12','sensor13','sensor14','sensor15',\n",
        "                 'sensor17','sensor20','sensor21']\n",
        "\n",
        "# generator for the sequences\n",
        "# transform each id of the train dataset in a sequence\n",
        "seq_gen = (list(gen_sequence(train_data[train_data['id']==id], \n",
        "                             sequence_length, sequence_cols)) \n",
        "           for id in train_data['id'].unique())\n",
        "\n",
        "# generate sequences and convert to numpy array\n",
        "seq_array = np.concatenate(list(seq_gen)).astype(np.float32)\n",
        "print(seq_array.shape)\n"
      ],
      "execution_count": 10,
      "outputs": [
        {
          "output_type": "stream",
          "text": [
            "(16631, 40, 14)\n"
          ],
          "name": "stdout"
        }
      ]
    },
    {
      "cell_type": "code",
      "metadata": {
        "id": "bCTPbJyy3fhf",
        "colab_type": "code",
        "colab": {
          "base_uri": "https://localhost:8080/",
          "height": 35
        },
        "outputId": "5393e806-17c7-40c0-cf3e-fac085edf1ed"
      },
      "source": [
        "# function to generate labels\n",
        "def gen_labels(id_df, seq_length, label):\n",
        "\n",
        "    data_matrix = id_df[label].values\n",
        "    num_elements = data_matrix.shape[0]\n",
        "\n",
        "    return data_matrix[seq_length:num_elements, :]\n",
        "\n",
        "# generate labels\n",
        "label_gen = [gen_labels(train_data[train_data['id']==id], sequence_length,\n",
        "                        ['R_early']) \n",
        "             for id in train_data['id'].unique()]\n",
        "\n",
        "label_array = np.concatenate(label_gen).astype(np.float32)\n",
        "label_array.shape"
      ],
      "execution_count": 11,
      "outputs": [
        {
          "output_type": "execute_result",
          "data": {
            "text/plain": [
              "(16631, 1)"
            ]
          },
          "metadata": {
            "tags": []
          },
          "execution_count": 11
        }
      ]
    },
    {
      "cell_type": "code",
      "metadata": {
        "id": "1ubzfn753fhi",
        "colab_type": "code",
        "colab": {}
      },
      "source": [
        "# Metrics using keras backend\n",
        "def r2_keras(y_true, y_pred):\n",
        "    \"\"\"Coefficient of Determination \n",
        "    \"\"\"\n",
        "    SS_res =  K.sum(K.square( y_true - y_pred ))\n",
        "    SS_tot = K.sum(K.square( y_true - K.mean(y_true) ) )\n",
        "    return ( 1 - SS_res/(SS_tot + K.epsilon()) )\n",
        "\n",
        "def rmse(y_true, y_pred):\n",
        "    return K.sqrt(K.mean(K.square(y_pred - y_true), axis=-1))"
      ],
      "execution_count": 12,
      "outputs": []
    },
    {
      "cell_type": "code",
      "metadata": {
        "id": "9tHNGc3m3fhk",
        "colab_type": "code",
        "colab": {}
      },
      "source": [
        "nb_features = seq_array.shape[2]\n",
        "nb_out = label_array.shape[1]"
      ],
      "execution_count": 13,
      "outputs": []
    },
    {
      "cell_type": "markdown",
      "metadata": {
        "colab_type": "text",
        "id": "Tmgn10YAdrFk"
      },
      "source": [
        "# Create Model"
      ]
    },
    {
      "cell_type": "code",
      "metadata": {
        "tags": [],
        "id": "WGJIN-Hb3fhr",
        "colab_type": "code",
        "colab": {}
      },
      "source": [
        "# Clear artifacts and set random seed to ensure repeatability\n",
        "keras.backend.clear_session()\n",
        "np.random.seed(42)\n",
        "\n",
        "#Create model\n",
        "\n",
        "def DCNN():\n",
        "    model = keras.models.Sequential()\n",
        "    model.add(keras.layers.Conv1D(32, 8, padding='same', activation='relu',\n",
        "                                  input_shape=(sequence_length,nb_features)))\n",
        "    model.add(keras.layers.Conv1D(64, 8, padding='same', activation='relu'))\n",
        "    model.add(keras.layers.Conv1D(64, 8, padding='same', activation='relu'))\n",
        "    model.add(keras.layers.Conv1D(32, 8, padding='same', activation='relu'))\n",
        "    model.add(keras.layers.GlobalMaxPooling1D())\n",
        "    model.add(keras.layers.Dropout(0.5))\n",
        "    #model.add(keras.layers.Flatten())\n",
        "    model.add(keras.layers.Dense(100, activation='linear'))\n",
        "    model.add(keras.layers.Dropout(0.2))\n",
        "    model.add(keras.layers.Dense(units=nb_out))\n",
        "    optimizer = keras.optimizers.rmsprop(lr=1e-5)\n",
        "    model.compile(loss=keras.losses.Huber(),\n",
        "              optimizer=optimizer,\n",
        "              metrics=([rmse,r2_keras]))\n",
        "    return model\n",
        "\n",
        "#Creat model checkpoint to save the best model performance\n",
        "model_checkpoint = keras.callbacks.ModelCheckpoint(\n",
        "    \"my_checkpoint.h5\", save_best_only=True)\n",
        "\n",
        "#specify ealy_callback to stop training model if there's no improvement after 10 epochs    \n",
        "early_stopping = keras.callbacks.EarlyStopping(patience=10)"
      ],
      "execution_count": 14,
      "outputs": []
    },
    {
      "cell_type": "code",
      "metadata": {
        "tags": [],
        "id": "Qo8NNFW83fhw",
        "colab_type": "code",
        "colab": {
          "base_uri": "https://localhost:8080/",
          "height": 497
        },
        "outputId": "8d446d38-3767-4663-be8c-c191355bb1ec"
      },
      "source": [
        "# Check the model architecture\n",
        "\n",
        "New_DCNN=DCNN()\n",
        "New_DCNN.summary()\n",
        "\n",
        "# `rankdir='LR'` is to make the graph horizontal.\n",
        "keras.utils.plot_model(New_DCNN, show_shapes=True, rankdir=\"LR\")          "
      ],
      "execution_count": 15,
      "outputs": [
        {
          "output_type": "stream",
          "text": [
            "Model: \"sequential_1\"\n",
            "_________________________________________________________________\n",
            "Layer (type)                 Output Shape              Param #   \n",
            "=================================================================\n",
            "conv1d_1 (Conv1D)            (None, 40, 32)            3616      \n",
            "_________________________________________________________________\n",
            "conv1d_2 (Conv1D)            (None, 40, 64)            16448     \n",
            "_________________________________________________________________\n",
            "conv1d_3 (Conv1D)            (None, 40, 64)            32832     \n",
            "_________________________________________________________________\n",
            "conv1d_4 (Conv1D)            (None, 40, 32)            16416     \n",
            "_________________________________________________________________\n",
            "global_max_pooling1d_1 (Glob (None, 32)                0         \n",
            "_________________________________________________________________\n",
            "dropout_1 (Dropout)          (None, 32)                0         \n",
            "_________________________________________________________________\n",
            "dense_1 (Dense)              (None, 100)               3300      \n",
            "_________________________________________________________________\n",
            "dropout_2 (Dropout)          (None, 100)               0         \n",
            "_________________________________________________________________\n",
            "dense_2 (Dense)              (None, 1)                 101       \n",
            "=================================================================\n",
            "Total params: 72,713\n",
            "Trainable params: 72,713\n",
            "Non-trainable params: 0\n",
            "_________________________________________________________________\n"
          ],
          "name": "stdout"
        },
        {
          "output_type": "execute_result",
          "data": {
            "image/png": "[encoded data removed]",
            "text/plain": [
              "<IPython.core.display.Image object>"
            ]
          },
          "metadata": {
            "tags": []
          },
          "execution_count": 15
        }
      ]
    },
    {
      "cell_type": "code",
      "metadata": {
        "tags": [],
        "id": "-QK_Npfo3fh1",
        "colab_type": "code",
        "colab": {
          "base_uri": "https://localhost:8080/",
          "height": 1000
        },
        "outputId": "762b5e59-41c7-4135-d015-7b7e908e289a"
      },
      "source": [
        "# Train the model\n",
        "history = New_DCNN.fit(seq_array,label_array, epochs=500, batch_size=200,\n",
        "                       validation_split=0.2,callbacks=[early_stopping, \n",
        "                        model_checkpoint])"
      ],
      "execution_count": 16,
      "outputs": [
        {
          "output_type": "stream",
          "text": [
            "Train on 13304 samples, validate on 3327 samples\n",
            "Epoch 1/500\n",
            "13304/13304 [==============================] - 3s 208us/step - loss: 75.8553 - rmse: 76.3534 - r2_keras: -3.4335 - val_loss: 81.2542 - val_rmse: 81.7528 - val_r2_keras: -8.7137\n",
            "Epoch 2/500\n",
            "13304/13304 [==============================] - 1s 63us/step - loss: 75.4478 - rmse: 75.9459 - r2_keras: -3.4030 - val_loss: 80.7800 - val_rmse: 81.2772 - val_r2_keras: -8.6280\n",
            "Epoch 3/500\n",
            "13304/13304 [==============================] - 1s 62us/step - loss: 74.8896 - rmse: 75.3878 - r2_keras: -3.3499 - val_loss: 80.1187 - val_rmse: 80.6170 - val_r2_keras: -8.5082\n",
            "Epoch 4/500\n",
            "13304/13304 [==============================] - 1s 63us/step - loss: 74.1053 - rmse: 74.6035 - r2_keras: -3.2874 - val_loss: 79.1926 - val_rmse: 79.6909 - val_r2_keras: -8.3398\n",
            "Epoch 5/500\n",
            "13304/13304 [==============================] - 1s 63us/step - loss: 73.0291 - rmse: 73.5270 - r2_keras: -3.1740 - val_loss: 77.9145 - val_rmse: 78.4120 - val_r2_keras: -8.1069\n",
            "Epoch 6/500\n",
            "13304/13304 [==============================] - 1s 63us/step - loss: 71.5063 - rmse: 72.0042 - r2_keras: -3.0400 - val_loss: 76.1790 - val_rmse: 76.6766 - val_r2_keras: -7.7895\n",
            "Epoch 7/500\n",
            "13304/13304 [==============================] - 1s 62us/step - loss: 69.5369 - rmse: 70.0349 - r2_keras: -2.8626 - val_loss: 73.8090 - val_rmse: 74.3075 - val_r2_keras: -7.3546\n",
            "Epoch 8/500\n",
            "13304/13304 [==============================] - 1s 63us/step - loss: 66.8064 - rmse: 67.3045 - r2_keras: -2.6203 - val_loss: 70.6761 - val_rmse: 71.1741 - val_r2_keras: -6.7795\n",
            "Epoch 9/500\n",
            "13304/13304 [==============================] - 1s 64us/step - loss: 63.3884 - rmse: 63.8864 - r2_keras: -2.3032 - val_loss: 66.6989 - val_rmse: 67.1973 - val_r2_keras: -6.0497\n",
            "Epoch 10/500\n",
            "13304/13304 [==============================] - 1s 64us/step - loss: 59.2076 - rmse: 59.7055 - r2_keras: -1.9400 - val_loss: 61.7967 - val_rmse: 62.2949 - val_r2_keras: -5.1530\n",
            "Epoch 11/500\n",
            "13304/13304 [==============================] - 1s 62us/step - loss: 54.3020 - rmse: 54.7997 - r2_keras: -1.4997 - val_loss: 56.0266 - val_rmse: 56.5246 - val_r2_keras: -4.1021\n",
            "Epoch 12/500\n",
            "13304/13304 [==============================] - 1s 63us/step - loss: 48.8506 - rmse: 49.3486 - r2_keras: -1.0219 - val_loss: 49.6958 - val_rmse: 50.1939 - val_r2_keras: -2.9517\n",
            "Epoch 13/500\n",
            "13304/13304 [==============================] - 1s 63us/step - loss: 43.7439 - rmse: 44.2421 - r2_keras: -0.5906 - val_loss: 43.7061 - val_rmse: 44.2044 - val_r2_keras: -1.8695\n",
            "Epoch 14/500\n",
            "13304/13304 [==============================] - 1s 63us/step - loss: 39.8225 - rmse: 40.3204 - r2_keras: -0.2960 - val_loss: 39.1646 - val_rmse: 39.6626 - val_r2_keras: -1.0678\n",
            "Epoch 15/500\n",
            "13304/13304 [==============================] - 1s 65us/step - loss: 38.3446 - rmse: 38.8425 - r2_keras: -0.2089 - val_loss: 37.3241 - val_rmse: 37.8223 - val_r2_keras: -0.7868\n",
            "Epoch 16/500\n",
            "13304/13304 [==============================] - 1s 63us/step - loss: 37.3518 - rmse: 37.8496 - r2_keras: -0.1535 - val_loss: 36.4280 - val_rmse: 36.9261 - val_r2_keras: -0.6824\n",
            "Epoch 17/500\n",
            "13304/13304 [==============================] - 1s 65us/step - loss: 37.0003 - rmse: 37.4978 - r2_keras: -0.1362 - val_loss: 35.7086 - val_rmse: 36.2067 - val_r2_keras: -0.6158\n",
            "Epoch 18/500\n",
            "13304/13304 [==============================] - 1s 62us/step - loss: 36.5225 - rmse: 37.0203 - r2_keras: -0.1084 - val_loss: 35.0530 - val_rmse: 35.5510 - val_r2_keras: -0.5635\n",
            "Epoch 19/500\n",
            "13304/13304 [==============================] - 1s 63us/step - loss: 35.7160 - rmse: 36.2140 - r2_keras: -0.0616 - val_loss: 34.4022 - val_rmse: 34.9003 - val_r2_keras: -0.5132\n",
            "Epoch 20/500\n",
            "13304/13304 [==============================] - 1s 61us/step - loss: 34.9856 - rmse: 35.4828 - r2_keras: -0.0271 - val_loss: 33.6884 - val_rmse: 34.1862 - val_r2_keras: -0.4567\n",
            "Epoch 21/500\n",
            "13304/13304 [==============================] - 1s 62us/step - loss: 34.3505 - rmse: 34.8480 - r2_keras: 0.0094 - val_loss: 33.1132 - val_rmse: 33.6112 - val_r2_keras: -0.4247\n",
            "Epoch 22/500\n",
            "13304/13304 [==============================] - 1s 64us/step - loss: 33.6861 - rmse: 34.1837 - r2_keras: 0.0465 - val_loss: 32.1829 - val_rmse: 32.6810 - val_r2_keras: -0.3482\n",
            "Epoch 23/500\n",
            "13304/13304 [==============================] - 1s 63us/step - loss: 32.8830 - rmse: 33.3807 - r2_keras: 0.0878 - val_loss: 31.3844 - val_rmse: 31.8821 - val_r2_keras: -0.2945\n",
            "Epoch 24/500\n",
            "13304/13304 [==============================] - 1s 64us/step - loss: 32.4815 - rmse: 32.9790 - r2_keras: 0.1108 - val_loss: 30.5069 - val_rmse: 31.0048 - val_r2_keras: -0.2357\n",
            "Epoch 25/500\n",
            "13304/13304 [==============================] - 1s 63us/step - loss: 31.9147 - rmse: 32.4120 - r2_keras: 0.1318 - val_loss: 29.7275 - val_rmse: 30.2253 - val_r2_keras: -0.1915\n",
            "Epoch 26/500\n",
            "13304/13304 [==============================] - 1s 62us/step - loss: 30.9475 - rmse: 31.4448 - r2_keras: 0.1778 - val_loss: 28.8313 - val_rmse: 29.3290 - val_r2_keras: -0.1363\n",
            "Epoch 27/500\n",
            "13304/13304 [==============================] - 1s 62us/step - loss: 30.6304 - rmse: 31.1277 - r2_keras: 0.1963 - val_loss: 28.3798 - val_rmse: 28.8775 - val_r2_keras: -0.1404\n",
            "Epoch 28/500\n",
            "13304/13304 [==============================] - 1s 62us/step - loss: 30.1858 - rmse: 30.6825 - r2_keras: 0.2043 - val_loss: 28.0351 - val_rmse: 28.5324 - val_r2_keras: -0.1482\n",
            "Epoch 29/500\n",
            "13304/13304 [==============================] - 1s 63us/step - loss: 29.5127 - rmse: 30.0097 - r2_keras: 0.2296 - val_loss: 27.0791 - val_rmse: 27.5764 - val_r2_keras: -0.0779\n",
            "Epoch 30/500\n",
            "13304/13304 [==============================] - 1s 62us/step - loss: 29.1878 - rmse: 29.6845 - r2_keras: 0.2383 - val_loss: 26.9071 - val_rmse: 27.4045 - val_r2_keras: -0.0958\n",
            "Epoch 31/500\n",
            "13304/13304 [==============================] - 1s 64us/step - loss: 28.9035 - rmse: 29.3997 - r2_keras: 0.2468 - val_loss: 26.1565 - val_rmse: 26.6538 - val_r2_keras: -0.0368\n",
            "Epoch 32/500\n",
            "13304/13304 [==============================] - 1s 63us/step - loss: 28.5784 - rmse: 29.0751 - r2_keras: 0.2552 - val_loss: 25.8971 - val_rmse: 26.3942 - val_r2_keras: -0.0306\n",
            "Epoch 33/500\n",
            "13304/13304 [==============================] - 1s 63us/step - loss: 28.5560 - rmse: 29.0521 - r2_keras: 0.2517 - val_loss: 26.0048 - val_rmse: 26.5018 - val_r2_keras: -0.0594\n",
            "Epoch 34/500\n",
            "13304/13304 [==============================] - 1s 61us/step - loss: 28.3661 - rmse: 28.8629 - r2_keras: 0.2527 - val_loss: 25.3028 - val_rmse: 25.8002 - val_r2_keras: 0.0052\n",
            "Epoch 35/500\n",
            "13304/13304 [==============================] - 1s 61us/step - loss: 28.0740 - rmse: 28.5706 - r2_keras: 0.2697 - val_loss: 24.8696 - val_rmse: 25.3641 - val_r2_keras: 0.0399\n",
            "Epoch 36/500\n",
            "13304/13304 [==============================] - 1s 62us/step - loss: 27.7253 - rmse: 28.2216 - r2_keras: 0.2842 - val_loss: 25.3401 - val_rmse: 25.8368 - val_r2_keras: -0.0183\n",
            "Epoch 37/500\n",
            "13304/13304 [==============================] - 1s 63us/step - loss: 27.6474 - rmse: 28.1436 - r2_keras: 0.2868 - val_loss: 24.7980 - val_rmse: 25.2924 - val_r2_keras: 0.0319\n",
            "Epoch 38/500\n",
            "13304/13304 [==============================] - 1s 63us/step - loss: 27.6574 - rmse: 28.1539 - r2_keras: 0.2879 - val_loss: 24.8776 - val_rmse: 25.3732 - val_r2_keras: 0.0208\n",
            "Epoch 39/500\n",
            "13304/13304 [==============================] - 1s 63us/step - loss: 27.4534 - rmse: 27.9499 - r2_keras: 0.2926 - val_loss: 24.9426 - val_rmse: 25.4385 - val_r2_keras: 0.0072\n",
            "Epoch 40/500\n",
            "13304/13304 [==============================] - 1s 62us/step - loss: 27.1543 - rmse: 27.6504 - r2_keras: 0.3051 - val_loss: 24.8118 - val_rmse: 25.3069 - val_r2_keras: 0.0184\n",
            "Epoch 41/500\n",
            "13304/13304 [==============================] - 1s 63us/step - loss: 27.1224 - rmse: 27.6184 - r2_keras: 0.3071 - val_loss: 24.4379 - val_rmse: 24.9319 - val_r2_keras: 0.0538\n",
            "Epoch 42/500\n",
            "13304/13304 [==============================] - 1s 63us/step - loss: 26.9048 - rmse: 27.4010 - r2_keras: 0.3141 - val_loss: 24.9236 - val_rmse: 25.4207 - val_r2_keras: -3.6564e-04\n",
            "Epoch 43/500\n",
            "13304/13304 [==============================] - 1s 62us/step - loss: 26.7927 - rmse: 27.2892 - r2_keras: 0.3200 - val_loss: 24.4896 - val_rmse: 24.9842 - val_r2_keras: 0.0418\n",
            "Epoch 44/500\n",
            "13304/13304 [==============================] - 1s 62us/step - loss: 26.4767 - rmse: 26.9722 - r2_keras: 0.3345 - val_loss: 24.0515 - val_rmse: 24.5484 - val_r2_keras: 0.0856\n",
            "Epoch 45/500\n",
            "13304/13304 [==============================] - 1s 63us/step - loss: 26.3768 - rmse: 26.8732 - r2_keras: 0.3382 - val_loss: 24.3346 - val_rmse: 24.8275 - val_r2_keras: 0.0508\n",
            "Epoch 46/500\n",
            "13304/13304 [==============================] - 1s 61us/step - loss: 26.1510 - rmse: 26.6468 - r2_keras: 0.3482 - val_loss: 24.6333 - val_rmse: 25.1287 - val_r2_keras: 0.0144\n",
            "Epoch 47/500\n",
            "13304/13304 [==============================] - 1s 63us/step - loss: 26.1566 - rmse: 26.6521 - r2_keras: 0.3424 - val_loss: 24.1940 - val_rmse: 24.6864 - val_r2_keras: 0.0572\n",
            "Epoch 48/500\n",
            "13304/13304 [==============================] - 1s 63us/step - loss: 25.9485 - rmse: 26.4440 - r2_keras: 0.3568 - val_loss: 24.0319 - val_rmse: 24.5265 - val_r2_keras: 0.0705\n",
            "Epoch 49/500\n",
            "13304/13304 [==============================] - 1s 64us/step - loss: 25.9568 - rmse: 26.4521 - r2_keras: 0.3515 - val_loss: 23.7934 - val_rmse: 24.2898 - val_r2_keras: 0.0924\n",
            "Epoch 50/500\n",
            "13304/13304 [==============================] - 1s 67us/step - loss: 25.5670 - rmse: 26.0626 - r2_keras: 0.3681 - val_loss: 24.1226 - val_rmse: 24.6168 - val_r2_keras: 0.0526\n",
            "Epoch 51/500\n",
            "13304/13304 [==============================] - 1s 66us/step - loss: 25.5846 - rmse: 26.0801 - r2_keras: 0.3667 - val_loss: 24.0567 - val_rmse: 24.5496 - val_r2_keras: 0.0546\n",
            "Epoch 52/500\n",
            "13304/13304 [==============================] - 1s 67us/step - loss: 25.3722 - rmse: 25.8678 - r2_keras: 0.3743 - val_loss: 23.3586 - val_rmse: 23.8546 - val_r2_keras: 0.1279\n",
            "Epoch 53/500\n",
            "13304/13304 [==============================] - 1s 65us/step - loss: 25.2164 - rmse: 25.7117 - r2_keras: 0.3845 - val_loss: 23.9707 - val_rmse: 24.4629 - val_r2_keras: 0.0562\n",
            "Epoch 54/500\n",
            "13304/13304 [==============================] - 1s 65us/step - loss: 25.2317 - rmse: 25.7266 - r2_keras: 0.3799 - val_loss: 23.3952 - val_rmse: 23.8904 - val_r2_keras: 0.1154\n",
            "Epoch 55/500\n",
            "13304/13304 [==============================] - 1s 66us/step - loss: 25.0508 - rmse: 25.5464 - r2_keras: 0.3906 - val_loss: 23.2422 - val_rmse: 23.7377 - val_r2_keras: 0.1290\n",
            "Epoch 56/500\n",
            "13304/13304 [==============================] - 1s 66us/step - loss: 25.0347 - rmse: 25.5297 - r2_keras: 0.3937 - val_loss: 23.3089 - val_rmse: 23.8040 - val_r2_keras: 0.1170\n",
            "Epoch 57/500\n",
            "13304/13304 [==============================] - 1s 65us/step - loss: 24.6360 - rmse: 25.1309 - r2_keras: 0.4021 - val_loss: 23.6787 - val_rmse: 24.1707 - val_r2_keras: 0.0751\n",
            "Epoch 58/500\n",
            "13304/13304 [==============================] - 1s 65us/step - loss: 24.7015 - rmse: 25.1962 - r2_keras: 0.4001 - val_loss: 22.6522 - val_rmse: 23.1478 - val_r2_keras: 0.1829\n",
            "Epoch 59/500\n",
            "13304/13304 [==============================] - 1s 66us/step - loss: 24.4375 - rmse: 24.9329 - r2_keras: 0.4190 - val_loss: 23.5665 - val_rmse: 24.0585 - val_r2_keras: 0.0816\n",
            "Epoch 60/500\n",
            "13304/13304 [==============================] - 1s 65us/step - loss: 24.4632 - rmse: 24.9578 - r2_keras: 0.4141 - val_loss: 22.4210 - val_rmse: 22.9176 - val_r2_keras: 0.2006\n",
            "Epoch 61/500\n",
            "13304/13304 [==============================] - 1s 66us/step - loss: 24.4701 - rmse: 24.9654 - r2_keras: 0.4186 - val_loss: 22.7300 - val_rmse: 23.2244 - val_r2_keras: 0.1644\n",
            "Epoch 62/500\n",
            "13304/13304 [==============================] - 1s 65us/step - loss: 24.4357 - rmse: 24.9308 - r2_keras: 0.4148 - val_loss: 22.9743 - val_rmse: 23.4676 - val_r2_keras: 0.1364\n",
            "Epoch 63/500\n",
            "13304/13304 [==============================] - 1s 64us/step - loss: 24.4884 - rmse: 24.9834 - r2_keras: 0.4168 - val_loss: 23.1302 - val_rmse: 23.6246 - val_r2_keras: 0.1207\n",
            "Epoch 64/500\n",
            "13304/13304 [==============================] - 1s 66us/step - loss: 23.9676 - rmse: 24.4624 - r2_keras: 0.4351 - val_loss: 22.4931 - val_rmse: 22.9880 - val_r2_keras: 0.1824\n",
            "Epoch 65/500\n",
            "13304/13304 [==============================] - 1s 65us/step - loss: 24.0811 - rmse: 24.5759 - r2_keras: 0.4267 - val_loss: 22.4894 - val_rmse: 22.9848 - val_r2_keras: 0.1804\n",
            "Epoch 66/500\n",
            "13304/13304 [==============================] - 1s 62us/step - loss: 24.1019 - rmse: 24.5971 - r2_keras: 0.4305 - val_loss: 22.5946 - val_rmse: 23.0896 - val_r2_keras: 0.1674\n",
            "Epoch 67/500\n",
            "13304/13304 [==============================] - 1s 67us/step - loss: 23.9934 - rmse: 24.4887 - r2_keras: 0.4355 - val_loss: 22.8796 - val_rmse: 23.3722 - val_r2_keras: 0.1384\n",
            "Epoch 68/500\n",
            "13304/13304 [==============================] - 1s 64us/step - loss: 23.6494 - rmse: 24.1444 - r2_keras: 0.4440 - val_loss: 22.4057 - val_rmse: 22.9007 - val_r2_keras: 0.1833\n",
            "Epoch 69/500\n",
            "13304/13304 [==============================] - 1s 66us/step - loss: 23.9190 - rmse: 24.4136 - r2_keras: 0.4358 - val_loss: 22.1686 - val_rmse: 22.6643 - val_r2_keras: 0.2048\n",
            "Epoch 70/500\n",
            "13304/13304 [==============================] - 1s 64us/step - loss: 23.7343 - rmse: 24.2288 - r2_keras: 0.4428 - val_loss: 21.8179 - val_rmse: 22.3143 - val_r2_keras: 0.2384\n",
            "Epoch 71/500\n",
            "13304/13304 [==============================] - 1s 64us/step - loss: 23.5822 - rmse: 24.0769 - r2_keras: 0.4465 - val_loss: 22.1394 - val_rmse: 22.6333 - val_r2_keras: 0.2051\n",
            "Epoch 72/500\n",
            "13304/13304 [==============================] - 1s 65us/step - loss: 23.6505 - rmse: 24.1455 - r2_keras: 0.4468 - val_loss: 22.1502 - val_rmse: 22.6445 - val_r2_keras: 0.2024\n",
            "Epoch 73/500\n",
            "13304/13304 [==============================] - 1s 63us/step - loss: 23.6135 - rmse: 24.1084 - r2_keras: 0.4506 - val_loss: 21.7773 - val_rmse: 22.2728 - val_r2_keras: 0.2368\n",
            "Epoch 74/500\n",
            "13304/13304 [==============================] - 1s 62us/step - loss: 23.6151 - rmse: 24.1098 - r2_keras: 0.4442 - val_loss: 21.8201 - val_rmse: 22.3152 - val_r2_keras: 0.2315\n",
            "Epoch 75/500\n",
            "13304/13304 [==============================] - 1s 64us/step - loss: 23.5760 - rmse: 24.0706 - r2_keras: 0.4458 - val_loss: 22.3525 - val_rmse: 22.8475 - val_r2_keras: 0.1801\n",
            "Epoch 76/500\n",
            "13304/13304 [==============================] - 1s 63us/step - loss: 23.5834 - rmse: 24.0783 - r2_keras: 0.4522 - val_loss: 22.2725 - val_rmse: 22.7675 - val_r2_keras: 0.1865\n",
            "Epoch 77/500\n",
            "13304/13304 [==============================] - 1s 65us/step - loss: 23.4119 - rmse: 23.9061 - r2_keras: 0.4566 - val_loss: 22.3617 - val_rmse: 22.8582 - val_r2_keras: 0.1772\n",
            "Epoch 78/500\n",
            "13304/13304 [==============================] - 1s 67us/step - loss: 23.6348 - rmse: 24.1293 - r2_keras: 0.4504 - val_loss: 21.7459 - val_rmse: 22.2418 - val_r2_keras: 0.2327\n",
            "Epoch 79/500\n",
            "13304/13304 [==============================] - 1s 63us/step - loss: 23.2958 - rmse: 23.7903 - r2_keras: 0.4593 - val_loss: 21.4718 - val_rmse: 21.9680 - val_r2_keras: 0.2573\n",
            "Epoch 80/500\n",
            "13304/13304 [==============================] - 1s 63us/step - loss: 23.1088 - rmse: 23.6033 - r2_keras: 0.4674 - val_loss: 21.5229 - val_rmse: 22.0186 - val_r2_keras: 0.2511\n",
            "Epoch 81/500\n",
            "13304/13304 [==============================] - 1s 67us/step - loss: 23.1956 - rmse: 23.6894 - r2_keras: 0.4607 - val_loss: 21.8084 - val_rmse: 22.3026 - val_r2_keras: 0.2229\n",
            "Epoch 82/500\n",
            "13304/13304 [==============================] - 1s 64us/step - loss: 23.1418 - rmse: 23.6365 - r2_keras: 0.4698 - val_loss: 21.9841 - val_rmse: 22.4795 - val_r2_keras: 0.2048\n",
            "Epoch 83/500\n",
            "13304/13304 [==============================] - 1s 63us/step - loss: 23.0104 - rmse: 23.5045 - r2_keras: 0.4691 - val_loss: 21.5236 - val_rmse: 22.0200 - val_r2_keras: 0.2464\n",
            "Epoch 84/500\n",
            "13304/13304 [==============================] - 1s 67us/step - loss: 23.1012 - rmse: 23.5961 - r2_keras: 0.4675 - val_loss: 21.6981 - val_rmse: 22.1920 - val_r2_keras: 0.2285\n",
            "Epoch 85/500\n",
            "13304/13304 [==============================] - 1s 66us/step - loss: 23.1775 - rmse: 23.6718 - r2_keras: 0.4640 - val_loss: 21.8239 - val_rmse: 22.3204 - val_r2_keras: 0.2155\n",
            "Epoch 86/500\n",
            "13304/13304 [==============================] - 1s 67us/step - loss: 23.1104 - rmse: 23.6055 - r2_keras: 0.4644 - val_loss: 22.0738 - val_rmse: 22.5687 - val_r2_keras: 0.1919\n",
            "Epoch 87/500\n",
            "13304/13304 [==============================] - 1s 65us/step - loss: 23.0169 - rmse: 23.5113 - r2_keras: 0.4732 - val_loss: 21.3360 - val_rmse: 21.8303 - val_r2_keras: 0.2572\n",
            "Epoch 88/500\n",
            "13304/13304 [==============================] - 1s 67us/step - loss: 22.9437 - rmse: 23.4383 - r2_keras: 0.4767 - val_loss: 21.2789 - val_rmse: 21.7740 - val_r2_keras: 0.2604\n",
            "Epoch 89/500\n",
            "13304/13304 [==============================] - 1s 64us/step - loss: 22.7965 - rmse: 23.2906 - r2_keras: 0.4787 - val_loss: 20.9192 - val_rmse: 21.4146 - val_r2_keras: 0.2910\n",
            "Epoch 90/500\n",
            "13304/13304 [==============================] - 1s 65us/step - loss: 22.8249 - rmse: 23.3191 - r2_keras: 0.4791 - val_loss: 21.5101 - val_rmse: 22.0058 - val_r2_keras: 0.2354\n",
            "Epoch 91/500\n",
            "13304/13304 [==============================] - 1s 65us/step - loss: 22.7452 - rmse: 23.2392 - r2_keras: 0.4798 - val_loss: 21.8327 - val_rmse: 22.3278 - val_r2_keras: 0.2045\n",
            "Epoch 92/500\n",
            "13304/13304 [==============================] - 1s 66us/step - loss: 22.6887 - rmse: 23.1833 - r2_keras: 0.4815 - val_loss: 21.2598 - val_rmse: 21.7553 - val_r2_keras: 0.2538\n",
            "Epoch 93/500\n",
            "13304/13304 [==============================] - 1s 70us/step - loss: 22.5047 - rmse: 22.9990 - r2_keras: 0.4905 - val_loss: 21.1849 - val_rmse: 21.6804 - val_r2_keras: 0.2589\n",
            "Epoch 94/500\n",
            "13304/13304 [==============================] - 1s 67us/step - loss: 22.7141 - rmse: 23.2087 - r2_keras: 0.4845 - val_loss: 20.8784 - val_rmse: 21.3722 - val_r2_keras: 0.2827\n",
            "Epoch 95/500\n",
            "13304/13304 [==============================] - 1s 66us/step - loss: 22.4638 - rmse: 22.9581 - r2_keras: 0.4931 - val_loss: 20.6979 - val_rmse: 21.1917 - val_r2_keras: 0.2967\n",
            "Epoch 96/500\n",
            "13304/13304 [==============================] - 1s 65us/step - loss: 22.3084 - rmse: 22.8029 - r2_keras: 0.4977 - val_loss: 21.0643 - val_rmse: 21.5594 - val_r2_keras: 0.2599\n",
            "Epoch 97/500\n",
            "13304/13304 [==============================] - 1s 65us/step - loss: 22.4973 - rmse: 22.9918 - r2_keras: 0.4900 - val_loss: 20.4117 - val_rmse: 20.9057 - val_r2_keras: 0.3152\n",
            "Epoch 98/500\n",
            "13304/13304 [==============================] - 1s 66us/step - loss: 22.4635 - rmse: 22.9574 - r2_keras: 0.4928 - val_loss: 20.8873 - val_rmse: 21.3815 - val_r2_keras: 0.2658\n",
            "Epoch 99/500\n",
            "13304/13304 [==============================] - 1s 66us/step - loss: 22.2774 - rmse: 22.7712 - r2_keras: 0.4963 - val_loss: 20.5919 - val_rmse: 21.0836 - val_r2_keras: 0.2861\n",
            "Epoch 100/500\n",
            "13304/13304 [==============================] - 1s 66us/step - loss: 22.0062 - rmse: 22.5000 - r2_keras: 0.5108 - val_loss: 20.6205 - val_rmse: 21.1150 - val_r2_keras: 0.2760\n",
            "Epoch 101/500\n",
            "13304/13304 [==============================] - 1s 66us/step - loss: 21.8442 - rmse: 22.3385 - r2_keras: 0.5121 - val_loss: 20.1241 - val_rmse: 20.6169 - val_r2_keras: 0.3100\n",
            "Epoch 102/500\n",
            "13304/13304 [==============================] - 1s 67us/step - loss: 21.8748 - rmse: 22.3690 - r2_keras: 0.5110 - val_loss: 20.2196 - val_rmse: 20.7150 - val_r2_keras: 0.2887\n",
            "Epoch 103/500\n",
            "13304/13304 [==============================] - 1s 64us/step - loss: 21.2288 - rmse: 21.7228 - r2_keras: 0.5368 - val_loss: 20.0309 - val_rmse: 20.5260 - val_r2_keras: 0.2926\n",
            "Epoch 104/500\n",
            "13304/13304 [==============================] - 1s 64us/step - loss: 21.1052 - rmse: 21.5992 - r2_keras: 0.5430 - val_loss: 19.3902 - val_rmse: 19.8855 - val_r2_keras: 0.3375\n",
            "Epoch 105/500\n",
            "13304/13304 [==============================] - 1s 67us/step - loss: 20.8746 - rmse: 21.3686 - r2_keras: 0.5466 - val_loss: 19.0759 - val_rmse: 19.5693 - val_r2_keras: 0.3537\n",
            "Epoch 106/500\n",
            "13304/13304 [==============================] - 1s 66us/step - loss: 20.7139 - rmse: 21.2079 - r2_keras: 0.5567 - val_loss: 18.6727 - val_rmse: 19.1667 - val_r2_keras: 0.3812\n",
            "Epoch 107/500\n",
            "13304/13304 [==============================] - 1s 66us/step - loss: 20.3175 - rmse: 20.8111 - r2_keras: 0.5662 - val_loss: 18.3659 - val_rmse: 18.8595 - val_r2_keras: 0.4005\n",
            "Epoch 108/500\n",
            "13304/13304 [==============================] - 1s 66us/step - loss: 20.4555 - rmse: 20.9494 - r2_keras: 0.5612 - val_loss: 18.0216 - val_rmse: 18.5163 - val_r2_keras: 0.4235\n",
            "Epoch 109/500\n",
            "13304/13304 [==============================] - 1s 65us/step - loss: 20.2062 - rmse: 20.6995 - r2_keras: 0.5700 - val_loss: 17.8989 - val_rmse: 18.3932 - val_r2_keras: 0.4303\n",
            "Epoch 110/500\n",
            "13304/13304 [==============================] - 1s 65us/step - loss: 20.0542 - rmse: 20.5475 - r2_keras: 0.5763 - val_loss: 17.5968 - val_rmse: 18.0912 - val_r2_keras: 0.4533\n",
            "Epoch 111/500\n",
            "13304/13304 [==============================] - 1s 65us/step - loss: 20.0025 - rmse: 20.4962 - r2_keras: 0.5811 - val_loss: 17.8352 - val_rmse: 18.3290 - val_r2_keras: 0.4312\n",
            "Epoch 112/500\n",
            "13304/13304 [==============================] - 1s 65us/step - loss: 19.9774 - rmse: 20.4710 - r2_keras: 0.5787 - val_loss: 17.9337 - val_rmse: 18.4282 - val_r2_keras: 0.4232\n",
            "Epoch 113/500\n",
            "13304/13304 [==============================] - 1s 65us/step - loss: 19.9042 - rmse: 20.3976 - r2_keras: 0.5852 - val_loss: 17.3295 - val_rmse: 17.8219 - val_r2_keras: 0.4697\n",
            "Epoch 114/500\n",
            "13304/13304 [==============================] - 1s 64us/step - loss: 19.7165 - rmse: 20.2099 - r2_keras: 0.5879 - val_loss: 17.2594 - val_rmse: 17.7512 - val_r2_keras: 0.4737\n",
            "Epoch 115/500\n",
            "13304/13304 [==============================] - 1s 67us/step - loss: 19.7571 - rmse: 20.2501 - r2_keras: 0.5853 - val_loss: 17.8812 - val_rmse: 18.3744 - val_r2_keras: 0.4230\n",
            "Epoch 116/500\n",
            "13304/13304 [==============================] - 1s 65us/step - loss: 19.6600 - rmse: 20.1529 - r2_keras: 0.5936 - val_loss: 17.4212 - val_rmse: 17.9136 - val_r2_keras: 0.4574\n",
            "Epoch 117/500\n",
            "13304/13304 [==============================] - 1s 64us/step - loss: 19.5715 - rmse: 20.0647 - r2_keras: 0.5884 - val_loss: 17.2989 - val_rmse: 17.7908 - val_r2_keras: 0.4660\n",
            "Epoch 118/500\n",
            "13304/13304 [==============================] - 1s 65us/step - loss: 19.7715 - rmse: 20.2646 - r2_keras: 0.5850 - val_loss: 17.4071 - val_rmse: 17.8993 - val_r2_keras: 0.4567\n",
            "Epoch 119/500\n",
            "13304/13304 [==============================] - 1s 64us/step - loss: 19.7173 - rmse: 20.2098 - r2_keras: 0.5860 - val_loss: 17.2183 - val_rmse: 17.7101 - val_r2_keras: 0.4697\n",
            "Epoch 120/500\n",
            "13304/13304 [==============================] - 1s 64us/step - loss: 19.7716 - rmse: 20.2644 - r2_keras: 0.5830 - val_loss: 17.1879 - val_rmse: 17.6796 - val_r2_keras: 0.4708\n",
            "Epoch 121/500\n",
            "13304/13304 [==============================] - 1s 65us/step - loss: 19.5990 - rmse: 20.0916 - r2_keras: 0.5878 - val_loss: 17.0126 - val_rmse: 17.5036 - val_r2_keras: 0.4836\n",
            "Epoch 122/500\n",
            "13304/13304 [==============================] - 1s 65us/step - loss: 19.7100 - rmse: 20.2027 - r2_keras: 0.5887 - val_loss: 17.1777 - val_rmse: 17.6692 - val_r2_keras: 0.4690\n",
            "Epoch 123/500\n",
            "13304/13304 [==============================] - 1s 65us/step - loss: 19.5493 - rmse: 20.0423 - r2_keras: 0.5901 - val_loss: 17.0486 - val_rmse: 17.5402 - val_r2_keras: 0.4775\n",
            "Epoch 124/500\n",
            "13304/13304 [==============================] - 1s 65us/step - loss: 19.3078 - rmse: 19.8004 - r2_keras: 0.5992 - val_loss: 17.1462 - val_rmse: 17.6382 - val_r2_keras: 0.4688\n",
            "Epoch 125/500\n",
            "13304/13304 [==============================] - 1s 66us/step - loss: 19.5765 - rmse: 20.0694 - r2_keras: 0.5898 - val_loss: 16.9941 - val_rmse: 17.4858 - val_r2_keras: 0.4798\n",
            "Epoch 126/500\n",
            "13304/13304 [==============================] - 1s 64us/step - loss: 19.2613 - rmse: 19.7540 - r2_keras: 0.6015 - val_loss: 17.3002 - val_rmse: 17.7933 - val_r2_keras: 0.4562\n",
            "Epoch 127/500\n",
            "13304/13304 [==============================] - 1s 65us/step - loss: 19.4710 - rmse: 19.9630 - r2_keras: 0.5937 - val_loss: 17.2899 - val_rmse: 17.7829 - val_r2_keras: 0.4562\n",
            "Epoch 128/500\n",
            "13304/13304 [==============================] - 1s 66us/step - loss: 19.5839 - rmse: 20.0764 - r2_keras: 0.5870 - val_loss: 17.2204 - val_rmse: 17.7130 - val_r2_keras: 0.4600\n",
            "Epoch 129/500\n",
            "13304/13304 [==============================] - 1s 64us/step - loss: 19.1370 - rmse: 19.6293 - r2_keras: 0.6061 - val_loss: 17.0734 - val_rmse: 17.5657 - val_r2_keras: 0.4714\n",
            "Epoch 130/500\n",
            "13304/13304 [==============================] - 1s 63us/step - loss: 19.2556 - rmse: 19.7475 - r2_keras: 0.5983 - val_loss: 16.5507 - val_rmse: 17.0421 - val_r2_keras: 0.5116\n",
            "Epoch 131/500\n",
            "13304/13304 [==============================] - 1s 64us/step - loss: 19.3461 - rmse: 19.8381 - r2_keras: 0.5950 - val_loss: 16.6649 - val_rmse: 17.1559 - val_r2_keras: 0.5008\n",
            "Epoch 132/500\n",
            "13304/13304 [==============================] - 1s 63us/step - loss: 19.4177 - rmse: 19.9095 - r2_keras: 0.5898 - val_loss: 17.0746 - val_rmse: 17.5669 - val_r2_keras: 0.4681\n",
            "Epoch 133/500\n",
            "13304/13304 [==============================] - 1s 63us/step - loss: 19.3295 - rmse: 19.8223 - r2_keras: 0.5965 - val_loss: 17.1008 - val_rmse: 17.5929 - val_r2_keras: 0.4658\n",
            "Epoch 134/500\n",
            "13304/13304 [==============================] - 1s 64us/step - loss: 19.2447 - rmse: 19.7368 - r2_keras: 0.5961 - val_loss: 17.0465 - val_rmse: 17.5388 - val_r2_keras: 0.4684\n",
            "Epoch 135/500\n",
            "13304/13304 [==============================] - 1s 64us/step - loss: 19.2876 - rmse: 19.7789 - r2_keras: 0.5959 - val_loss: 17.2559 - val_rmse: 17.7476 - val_r2_keras: 0.4516\n",
            "Epoch 136/500\n",
            "13304/13304 [==============================] - 1s 63us/step - loss: 19.1079 - rmse: 19.6000 - r2_keras: 0.6036 - val_loss: 16.9903 - val_rmse: 17.4829 - val_r2_keras: 0.4709\n",
            "Epoch 137/500\n",
            "13304/13304 [==============================] - 1s 63us/step - loss: 19.2033 - rmse: 19.6952 - r2_keras: 0.6019 - val_loss: 16.8594 - val_rmse: 17.3509 - val_r2_keras: 0.4797\n",
            "Epoch 138/500\n",
            "13304/13304 [==============================] - 1s 63us/step - loss: 19.0843 - rmse: 19.5763 - r2_keras: 0.6040 - val_loss: 17.9881 - val_rmse: 18.4809 - val_r2_keras: 0.3954\n",
            "Epoch 139/500\n",
            "13304/13304 [==============================] - 1s 65us/step - loss: 19.3180 - rmse: 19.8097 - r2_keras: 0.5972 - val_loss: 16.6519 - val_rmse: 17.1429 - val_r2_keras: 0.4946\n",
            "Epoch 140/500\n",
            "13304/13304 [==============================] - 1s 64us/step - loss: 19.2928 - rmse: 19.7844 - r2_keras: 0.5910 - val_loss: 16.8806 - val_rmse: 17.3719 - val_r2_keras: 0.4771\n"
          ],
          "name": "stdout"
        }
      ]
    },
    {
      "cell_type": "code",
      "metadata": {
        "id": "J6aR6woKv8ok",
        "colab_type": "code",
        "colab": {}
      },
      "source": [
        "#load the best state of the model\n",
        "model= load_model(\"my_checkpoint.h5\", custom_objects={'r2_keras': r2_keras,'rmse':rmse})"
      ],
      "execution_count": 17,
      "outputs": []
    },
    {
      "cell_type": "code",
      "metadata": {
        "id": "4TsLT1ZoFdOw",
        "colab_type": "code",
        "colab": {}
      },
      "source": [
        ""
      ],
      "execution_count": 17,
      "outputs": []
    },
    {
      "cell_type": "code",
      "metadata": {
        "id": "ii42B87R9Buo",
        "colab_type": "code",
        "colab": {
          "base_uri": "https://localhost:8080/",
          "height": 35
        },
        "outputId": "556f2f6b-7b67-4a1b-df10-17def76d37f8"
      },
      "source": [
        "# generate test sequences and convert to numpy array\n",
        "test_gen = (list(gen_sequence(test_data[test_data['id']==id], sequence_length,\n",
        "            sequence_cols)) for id in test_data['id'].unique())\n",
        "\n",
        "# generate sequences and convert to numpy array\n",
        "test_gen = np.concatenate(list(test_gen)).astype(np.float32)\n",
        "#print(seq_array_test_last)\n",
        "print(test_gen.shape)"
      ],
      "execution_count": 18,
      "outputs": [
        {
          "output_type": "stream",
          "text": [
            "(155, 40, 14)\n"
          ],
          "name": "stdout"
        }
      ]
    },
    {
      "cell_type": "code",
      "metadata": {
        "id": "-VfMsfpS9YA1",
        "colab_type": "code",
        "colab": {
          "base_uri": "https://localhost:8080/",
          "height": 35
        },
        "outputId": "a1c15460-f7f8-4b29-ffa9-1a8e8d0e785c"
      },
      "source": [
        "# generate test labels\n",
        "test_target = [gen_labels(test_data[test_data['id']==id], sequence_length,\n",
        "               ['R_early']) for id in test_data['id'].unique()]\n",
        "\n",
        "y_true = np.concatenate(test_target).astype(np.float32)\n",
        "y_true.shape"
      ],
      "execution_count": 19,
      "outputs": [
        {
          "output_type": "execute_result",
          "data": {
            "text/plain": [
              "(155, 1)"
            ]
          },
          "metadata": {
            "tags": []
          },
          "execution_count": 19
        }
      ]
    },
    {
      "cell_type": "code",
      "metadata": {
        "id": "61nP-WOpv8or",
        "colab_type": "code",
        "colab": {}
      },
      "source": [
        "#predict on the test data\n",
        "RUL_pred = model.predict(test_gen)"
      ],
      "execution_count": 20,
      "outputs": []
    },
    {
      "cell_type": "code",
      "metadata": {
        "id": "gUQizaNc5Cg3",
        "colab_type": "code",
        "colab": {
          "base_uri": "https://localhost:8080/",
          "height": 35
        },
        "outputId": "05b36d08-6922-4770-898d-a3694f525bf6"
      },
      "source": [
        "RUL_pred.shape"
      ],
      "execution_count": 21,
      "outputs": [
        {
          "output_type": "execute_result",
          "data": {
            "text/plain": [
              "(155, 1)"
            ]
          },
          "metadata": {
            "tags": []
          },
          "execution_count": 21
        }
      ]
    },
    {
      "cell_type": "code",
      "metadata": {
        "id": "KQiStE-aPBr9",
        "colab_type": "code",
        "colab": {
          "base_uri": "https://localhost:8080/",
          "height": 35
        },
        "outputId": "708dbe77-50fd-4729-fcca-e38689d31f8a"
      },
      "source": [
        "y_true.shape"
      ],
      "execution_count": 22,
      "outputs": [
        {
          "output_type": "execute_result",
          "data": {
            "text/plain": [
              "(155, 1)"
            ]
          },
          "metadata": {
            "tags": []
          },
          "execution_count": 22
        }
      ]
    },
    {
      "cell_type": "code",
      "metadata": {
        "id": "Dv2lDZkY5Ch7",
        "colab_type": "code",
        "colab": {
          "base_uri": "https://localhost:8080/",
          "height": 265
        },
        "outputId": "8d903036-0cd5-47a9-bf82-695d34fbb62c"
      },
      "source": [
        "#Plot the predicted versus true RUL trend\n",
        "time = np.arange(test_gen.shape[0])\n",
        "plt.plot(time,RUL_pred)\n",
        "plt.plot(time, y_true)\n",
        "plt.show()"
      ],
      "execution_count": 23,
      "outputs": [
        {
          "output_type": "display_data",
          "data": {
            "image/png": "[encoded data removed]",
            "text/plain": [
              "<Figure size 432x288 with 1 Axes>"
            ]
          },
          "metadata": {
            "tags": [],
            "needs_background": "light"
          }
        }
      ]
    },
    {
      "cell_type": "code",
      "metadata": {
        "tags": [],
        "id": "Xcm3s65S5CiV",
        "colab_type": "code",
        "colab": {
          "base_uri": "https://localhost:8080/",
          "height": 313
        },
        "outputId": "ad45356a-afb7-4773-9633-1d97d78f2bc8"
      },
      "source": [
        "#Plot the losses  \n",
        "print(history.history.keys())\n",
        "# \"Loss\"\n",
        "plt.plot(history.history['loss'])\n",
        "plt.plot(history.history['val_loss'])\n",
        "plt.title('model loss')\n",
        "plt.ylabel('loss')\n",
        "plt.xlabel('epoch')\n",
        "plt.legend(['train', 'validation'], loc='upper left')\n",
        "plt.show()"
      ],
      "execution_count": 24,
      "outputs": [
        {
          "output_type": "stream",
          "text": [
            "dict_keys(['val_loss', 'val_rmse', 'val_r2_keras', 'loss', 'rmse', 'r2_keras'])\n"
          ],
          "name": "stdout"
        },
        {
          "output_type": "display_data",
          "data": {
            "image/png": "[encoded data removed]",
            "text/plain": [
              "<Figure size 432x288 with 1 Axes>"
            ]
          },
          "metadata": {
            "tags": [],
            "needs_background": "light"
          }
        }
      ]
    },
    {
      "cell_type": "code",
      "metadata": {
        "id": "mVHwSFLu3fiM",
        "colab_type": "code",
        "colab": {
          "base_uri": "https://localhost:8080/",
          "height": 35
        },
        "outputId": "df950e19-c35d-4a68-c688-66d5bde7d947"
      },
      "source": [
        "#Estimate the model average rmse\n",
        "final_mse = keras.metrics.mean_squared_error(y_true, RUL_pred)\n",
        "final_rmse = np.sqrt(final_mse)\n",
        "final_rmse\n",
        "np.mean(final_rmse)"
      ],
      "execution_count": 25,
      "outputs": [
        {
          "output_type": "execute_result",
          "data": {
            "text/plain": [
              "9.257155"
            ]
          },
          "metadata": {
            "tags": []
          },
          "execution_count": 25
        }
      ]
    }
  ]
}